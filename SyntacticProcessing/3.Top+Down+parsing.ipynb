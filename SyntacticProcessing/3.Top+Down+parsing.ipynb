{
 "cells": [
  {
   "cell_type": "code",
   "execution_count": 4,
   "metadata": {},
   "outputs": [],
   "source": [
    "#Specification of CFG\n",
    "import nltk \n",
    "\n",
    "grammar = nltk.CFG.fromstring(\"\"\"\n",
    "S -> NP VP\n",
    "NP -> Det N | Det N PP\n",
    "VP -> V | V NP | V NP PP\n",
    "PP -> P NP\n",
    "\n",
    "Det -> 'a' | 'an' | 'the'\n",
    "N -> 'man' | 'park' | 'dog' | 'telescope'\n",
    "V -> 'saw' | 'walked'\n",
    "P -> 'in' | 'with'\n",
    "\"\"\")"
   ]
  },
  {
   "cell_type": "code",
   "execution_count": 5,
   "metadata": {},
   "outputs": [
    {
     "name": "stdout",
     "output_type": "stream",
     "text": [
      "(S\n",
      "  (NP (Det the) (N man))\n",
      "  (VP\n",
      "    (V saw)\n",
      "    (NP\n",
      "      (Det a)\n",
      "      (N dog)\n",
      "      (PP\n",
      "        (P in)\n",
      "        (NP\n",
      "          (Det the)\n",
      "          (N park)\n",
      "          (PP (P with) (NP (Det a) (N telescope))))))))\n",
      "(S\n",
      "  (NP (Det the) (N man))\n",
      "  (VP\n",
      "    (V saw)\n",
      "    (NP (Det a) (N dog))\n",
      "    (PP\n",
      "      (P in)\n",
      "      (NP\n",
      "        (Det the)\n",
      "        (N park)\n",
      "        (PP (P with) (NP (Det a) (N telescope)))))))\n",
      "(S\n",
      "  (NP (Det the) (N man))\n",
      "  (VP\n",
      "    (V saw)\n",
      "    (NP (Det a) (N dog) (PP (P in) (NP (Det the) (N park))))\n",
      "    (PP (P with) (NP (Det a) (N telescope)))))\n"
     ]
    }
   ],
   "source": [
    "str = \"the man saw a dog in the park with a telescope\"\n",
    "\n",
    "from nltk.parse import RecursiveDescentParser\n",
    "\n",
    "#Using a top-down parser\n",
    "rdstr = RecursiveDescentParser(grammar)\n",
    "\n",
    "#Print each of the trees \n",
    "for tree in rdstr.parse(str.split()):\n",
    "    print(tree)"
   ]
  },
  {
   "cell_type": "code",
   "execution_count": 6,
   "metadata": {},
   "outputs": [],
   "source": [
    "#The last tree looks like this - \n",
    "#tree"
   ]
  },
  {
   "cell_type": "code",
   "execution_count": null,
   "metadata": {},
   "outputs": [
    {
     "name": "stderr",
     "output_type": "stream",
     "text": [
      "Exception in Tkinter callback\n",
      "Traceback (most recent call last):\n",
      "  File \"C:\\Users\\babas\\Anaconda3\\envs\\NLP_Python_36\\lib\\tkinter\\__init__.py\", line 1702, in __call__\n",
      "    return self.func(*args)\n",
      "  File \"C:\\Users\\babas\\Anaconda3\\envs\\NLP_Python_36\\lib\\site-packages\\nltk\\app\\rdparser_app.py\", line 512, in match\n",
      "    def match(self, *e): self._autostep = 0; self._match()\n",
      "  File \"C:\\Users\\babas\\Anaconda3\\envs\\NLP_Python_36\\lib\\site-packages\\nltk\\app\\rdparser_app.py\", line 553, in _match\n",
      "    rv = self._parser.match()\n",
      "  File \"C:\\Users\\babas\\Anaconda3\\envs\\NLP_Python_36\\lib\\site-packages\\nltk\\parse\\recursivedescent.py\", line 504, in match\n",
      "    tok = self._rtext[0]\n",
      "IndexError: list index out of range\n"
     ]
    }
   ],
   "source": [
    "nltk.app.rdparser()\n",
    "# once the recursive descent parser application opens, \n",
    "# you can edit the 'Text' and 'Grammar' according to your requirements\n"
   ]
  },
  {
   "cell_type": "code",
   "execution_count": null,
   "metadata": {},
   "outputs": [],
   "source": []
  }
 ],
 "metadata": {
  "kernelspec": {
   "display_name": "Python 3",
   "language": "python",
   "name": "python3"
  },
  "language_info": {
   "codemirror_mode": {
    "name": "ipython",
    "version": 3
   },
   "file_extension": ".py",
   "mimetype": "text/x-python",
   "name": "python",
   "nbconvert_exporter": "python",
   "pygments_lexer": "ipython3",
   "version": "3.6.9"
  }
 },
 "nbformat": 4,
 "nbformat_minor": 2
}
